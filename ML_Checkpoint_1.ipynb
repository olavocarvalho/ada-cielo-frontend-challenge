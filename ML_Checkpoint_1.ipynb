{
  "nbformat": 4,
  "nbformat_minor": 0,
  "metadata": {
    "colab": {
      "provenance": [],
      "toc_visible": true,
      "authorship_tag": "ABX9TyOzfQ8COKN7kVJj1r3o2MTr",
      "include_colab_link": true
    },
    "kernelspec": {
      "name": "python3",
      "display_name": "Python 3"
    },
    "language_info": {
      "name": "python"
    }
  },
  "cells": [
    {
      "cell_type": "markdown",
      "metadata": {
        "id": "view-in-github",
        "colab_type": "text"
      },
      "source": [
        "<a href=\"https://colab.research.google.com/github/olavocarvalho/ada-cielo-frontend-challenge/blob/master/ML_Checkpoint_1.ipynb\" target=\"_parent\"><img src=\"https://colab.research.google.com/assets/colab-badge.svg\" alt=\"Open In Colab\"/></a>"
      ]
    },
    {
      "cell_type": "markdown",
      "source": [
        "# Imports"
      ],
      "metadata": {
        "id": "vQhPSQSn0Hkb"
      }
    },
    {
      "cell_type": "code",
      "execution_count": 67,
      "metadata": {
        "id": "UIGSML1QyPWo"
      },
      "outputs": [],
      "source": [
        "# IMPORTS\n",
        "\n",
        "# GDRIVE\n",
        "from google.colab import drive\n",
        "\n",
        "## GENERAL\n",
        "import pandas as pd\n",
        "import numpy as np\n",
        "\n",
        "# Linear Regression\n",
        "from sklearn.preprocessing import normalize\n",
        "from sklearn.model_selection import train_test_split\n",
        "from sklearn.linear_model import LinearRegression\n",
        "from sklearn.metrics import mean_absolute_error, mean_squared_error, r2_score\n",
        "\n",
        "# Charts\n",
        "import matplotlib.pyplot as plt\n",
        "import seaborn as sns\n",
        "import plotly.express as px\n",
        "from scipy.stats import probplot, boxcox\n",
        "from scipy.special import inv_boxcox\n",
        "import pylab\n",
        "sns.set()"
      ]
    },
    {
      "cell_type": "markdown",
      "source": [
        "# Load the dataset"
      ],
      "metadata": {
        "id": "kVKmxU0R0Ktk"
      }
    },
    {
      "cell_type": "code",
      "source": [
        "# LOAD THE DATASET\n",
        "# Mount Google Drive\n",
        "drive.mount('/content/gdrive')\n",
        "\n",
        "# File path\n",
        "path = '/content/gdrive/My Drive/fiap/year_1/machine_learning/datasets/aluguel.csv'\n",
        "\n",
        "# Loading the dataset\n",
        "df = pd.read_csv(path, sep=\";\")\n",
        "\n",
        "print(f'# of lines   : {df.shape[0]}')\n",
        "print(f'# of columns : {df.shape[1]}')\n",
        "print('-----------------------')\n",
        "print('Null Counting')\n",
        "print(df.isnull().sum())"
      ],
      "metadata": {
        "colab": {
          "base_uri": "https://localhost:8080/"
        },
        "id": "IIgAIi94yYd9",
        "outputId": "122a258f-2501-4bcd-f46c-ba323bd86006"
      },
      "execution_count": 69,
      "outputs": [
        {
          "output_type": "stream",
          "name": "stdout",
          "text": [
            "Drive already mounted at /content/gdrive; to attempt to forcibly remount, call drive.mount(\"/content/gdrive\", force_remount=True).\n",
            "# of lines   : 10685\n",
            "# of columns : 13\n",
            "-----------------------\n",
            "Null Counting\n",
            "cidade              0\n",
            "area                0\n",
            "quartos             0\n",
            "banheiros           0\n",
            "vagas_garagem       0\n",
            "andar               0\n",
            "aceita_animal       0\n",
            "mobiliaria          0\n",
            "valor_condominio    0\n",
            "valor_aluguel       0\n",
            "valor_iptu          0\n",
            "valor_seguro        0\n",
            "valor_total         0\n",
            "dtype: int64\n"
          ]
        }
      ]
    },
    {
      "cell_type": "code",
      "source": [
        "df.head(10)"
      ],
      "metadata": {
        "colab": {
          "base_uri": "https://localhost:8080/",
          "height": 557
        },
        "id": "B1EX3vfqy9Wu",
        "outputId": "7f82c73f-47de-4689-e420-1f54e7237899"
      },
      "execution_count": 62,
      "outputs": [
        {
          "output_type": "execute_result",
          "data": {
            "text/plain": [
              "           cidade  area  quartos  banheiros  vagas_garagem  andar  \\\n",
              "0       São Paulo    70        2          1              1      7   \n",
              "1       São Paulo   320        4          4              0     20   \n",
              "2    Porto Alegre    80        1          1              1      6   \n",
              "3    Porto Alegre    51        2          1              0      2   \n",
              "4       São Paulo    25        1          1              0      1   \n",
              "5       São Paulo   376        3          3              7      0   \n",
              "6  Rio de Janeiro    72        2          1              0      7   \n",
              "7       São Paulo   213        4          4              4      4   \n",
              "8       São Paulo   152        2          2              1      3   \n",
              "9  Rio de Janeiro    35        1          1              0      2   \n",
              "\n",
              "   aceita_animal  mobiliaria  valor_condominio  valor_aluguel  valor_iptu  \\\n",
              "0              1           1              2065           3300         211   \n",
              "1              1           0              1200           4960        1750   \n",
              "2              1           0              1000           2800           0   \n",
              "3              1           0               270           1112          22   \n",
              "4              0           0                 0            800          25   \n",
              "5              1           0                 0           8000         834   \n",
              "6              1           0               740           1900          85   \n",
              "7              1           0              2254           3223        1735   \n",
              "8              1           1              1000          15000         250   \n",
              "9              1           1               590           2300          35   \n",
              "\n",
              "   valor_seguro  valor_total  \n",
              "0            42         5618  \n",
              "1            63         7973  \n",
              "2            41         3841  \n",
              "3            17         1421  \n",
              "4            11          836  \n",
              "5           121         8955  \n",
              "6            25         2750  \n",
              "7            41         7253  \n",
              "8           191        16440  \n",
              "9            30         2955  "
            ],
            "text/html": [
              "\n",
              "  <div id=\"df-60fef645-55dd-4374-a08e-f40410a8a96b\" class=\"colab-df-container\">\n",
              "    <div>\n",
              "<style scoped>\n",
              "    .dataframe tbody tr th:only-of-type {\n",
              "        vertical-align: middle;\n",
              "    }\n",
              "\n",
              "    .dataframe tbody tr th {\n",
              "        vertical-align: top;\n",
              "    }\n",
              "\n",
              "    .dataframe thead th {\n",
              "        text-align: right;\n",
              "    }\n",
              "</style>\n",
              "<table border=\"1\" class=\"dataframe\">\n",
              "  <thead>\n",
              "    <tr style=\"text-align: right;\">\n",
              "      <th></th>\n",
              "      <th>cidade</th>\n",
              "      <th>area</th>\n",
              "      <th>quartos</th>\n",
              "      <th>banheiros</th>\n",
              "      <th>vagas_garagem</th>\n",
              "      <th>andar</th>\n",
              "      <th>aceita_animal</th>\n",
              "      <th>mobiliaria</th>\n",
              "      <th>valor_condominio</th>\n",
              "      <th>valor_aluguel</th>\n",
              "      <th>valor_iptu</th>\n",
              "      <th>valor_seguro</th>\n",
              "      <th>valor_total</th>\n",
              "    </tr>\n",
              "  </thead>\n",
              "  <tbody>\n",
              "    <tr>\n",
              "      <th>0</th>\n",
              "      <td>São Paulo</td>\n",
              "      <td>70</td>\n",
              "      <td>2</td>\n",
              "      <td>1</td>\n",
              "      <td>1</td>\n",
              "      <td>7</td>\n",
              "      <td>1</td>\n",
              "      <td>1</td>\n",
              "      <td>2065</td>\n",
              "      <td>3300</td>\n",
              "      <td>211</td>\n",
              "      <td>42</td>\n",
              "      <td>5618</td>\n",
              "    </tr>\n",
              "    <tr>\n",
              "      <th>1</th>\n",
              "      <td>São Paulo</td>\n",
              "      <td>320</td>\n",
              "      <td>4</td>\n",
              "      <td>4</td>\n",
              "      <td>0</td>\n",
              "      <td>20</td>\n",
              "      <td>1</td>\n",
              "      <td>0</td>\n",
              "      <td>1200</td>\n",
              "      <td>4960</td>\n",
              "      <td>1750</td>\n",
              "      <td>63</td>\n",
              "      <td>7973</td>\n",
              "    </tr>\n",
              "    <tr>\n",
              "      <th>2</th>\n",
              "      <td>Porto Alegre</td>\n",
              "      <td>80</td>\n",
              "      <td>1</td>\n",
              "      <td>1</td>\n",
              "      <td>1</td>\n",
              "      <td>6</td>\n",
              "      <td>1</td>\n",
              "      <td>0</td>\n",
              "      <td>1000</td>\n",
              "      <td>2800</td>\n",
              "      <td>0</td>\n",
              "      <td>41</td>\n",
              "      <td>3841</td>\n",
              "    </tr>\n",
              "    <tr>\n",
              "      <th>3</th>\n",
              "      <td>Porto Alegre</td>\n",
              "      <td>51</td>\n",
              "      <td>2</td>\n",
              "      <td>1</td>\n",
              "      <td>0</td>\n",
              "      <td>2</td>\n",
              "      <td>1</td>\n",
              "      <td>0</td>\n",
              "      <td>270</td>\n",
              "      <td>1112</td>\n",
              "      <td>22</td>\n",
              "      <td>17</td>\n",
              "      <td>1421</td>\n",
              "    </tr>\n",
              "    <tr>\n",
              "      <th>4</th>\n",
              "      <td>São Paulo</td>\n",
              "      <td>25</td>\n",
              "      <td>1</td>\n",
              "      <td>1</td>\n",
              "      <td>0</td>\n",
              "      <td>1</td>\n",
              "      <td>0</td>\n",
              "      <td>0</td>\n",
              "      <td>0</td>\n",
              "      <td>800</td>\n",
              "      <td>25</td>\n",
              "      <td>11</td>\n",
              "      <td>836</td>\n",
              "    </tr>\n",
              "    <tr>\n",
              "      <th>5</th>\n",
              "      <td>São Paulo</td>\n",
              "      <td>376</td>\n",
              "      <td>3</td>\n",
              "      <td>3</td>\n",
              "      <td>7</td>\n",
              "      <td>0</td>\n",
              "      <td>1</td>\n",
              "      <td>0</td>\n",
              "      <td>0</td>\n",
              "      <td>8000</td>\n",
              "      <td>834</td>\n",
              "      <td>121</td>\n",
              "      <td>8955</td>\n",
              "    </tr>\n",
              "    <tr>\n",
              "      <th>6</th>\n",
              "      <td>Rio de Janeiro</td>\n",
              "      <td>72</td>\n",
              "      <td>2</td>\n",
              "      <td>1</td>\n",
              "      <td>0</td>\n",
              "      <td>7</td>\n",
              "      <td>1</td>\n",
              "      <td>0</td>\n",
              "      <td>740</td>\n",
              "      <td>1900</td>\n",
              "      <td>85</td>\n",
              "      <td>25</td>\n",
              "      <td>2750</td>\n",
              "    </tr>\n",
              "    <tr>\n",
              "      <th>7</th>\n",
              "      <td>São Paulo</td>\n",
              "      <td>213</td>\n",
              "      <td>4</td>\n",
              "      <td>4</td>\n",
              "      <td>4</td>\n",
              "      <td>4</td>\n",
              "      <td>1</td>\n",
              "      <td>0</td>\n",
              "      <td>2254</td>\n",
              "      <td>3223</td>\n",
              "      <td>1735</td>\n",
              "      <td>41</td>\n",
              "      <td>7253</td>\n",
              "    </tr>\n",
              "    <tr>\n",
              "      <th>8</th>\n",
              "      <td>São Paulo</td>\n",
              "      <td>152</td>\n",
              "      <td>2</td>\n",
              "      <td>2</td>\n",
              "      <td>1</td>\n",
              "      <td>3</td>\n",
              "      <td>1</td>\n",
              "      <td>1</td>\n",
              "      <td>1000</td>\n",
              "      <td>15000</td>\n",
              "      <td>250</td>\n",
              "      <td>191</td>\n",
              "      <td>16440</td>\n",
              "    </tr>\n",
              "    <tr>\n",
              "      <th>9</th>\n",
              "      <td>Rio de Janeiro</td>\n",
              "      <td>35</td>\n",
              "      <td>1</td>\n",
              "      <td>1</td>\n",
              "      <td>0</td>\n",
              "      <td>2</td>\n",
              "      <td>1</td>\n",
              "      <td>1</td>\n",
              "      <td>590</td>\n",
              "      <td>2300</td>\n",
              "      <td>35</td>\n",
              "      <td>30</td>\n",
              "      <td>2955</td>\n",
              "    </tr>\n",
              "  </tbody>\n",
              "</table>\n",
              "</div>\n",
              "    <div class=\"colab-df-buttons\">\n",
              "\n",
              "  <div class=\"colab-df-container\">\n",
              "    <button class=\"colab-df-convert\" onclick=\"convertToInteractive('df-60fef645-55dd-4374-a08e-f40410a8a96b')\"\n",
              "            title=\"Convert this dataframe to an interactive table.\"\n",
              "            style=\"display:none;\">\n",
              "\n",
              "  <svg xmlns=\"http://www.w3.org/2000/svg\" height=\"24px\" viewBox=\"0 -960 960 960\">\n",
              "    <path d=\"M120-120v-720h720v720H120Zm60-500h600v-160H180v160Zm220 220h160v-160H400v160Zm0 220h160v-160H400v160ZM180-400h160v-160H180v160Zm440 0h160v-160H620v160ZM180-180h160v-160H180v160Zm440 0h160v-160H620v160Z\"/>\n",
              "  </svg>\n",
              "    </button>\n",
              "\n",
              "  <style>\n",
              "    .colab-df-container {\n",
              "      display:flex;\n",
              "      gap: 12px;\n",
              "    }\n",
              "\n",
              "    .colab-df-convert {\n",
              "      background-color: #E8F0FE;\n",
              "      border: none;\n",
              "      border-radius: 50%;\n",
              "      cursor: pointer;\n",
              "      display: none;\n",
              "      fill: #1967D2;\n",
              "      height: 32px;\n",
              "      padding: 0 0 0 0;\n",
              "      width: 32px;\n",
              "    }\n",
              "\n",
              "    .colab-df-convert:hover {\n",
              "      background-color: #E2EBFA;\n",
              "      box-shadow: 0px 1px 2px rgba(60, 64, 67, 0.3), 0px 1px 3px 1px rgba(60, 64, 67, 0.15);\n",
              "      fill: #174EA6;\n",
              "    }\n",
              "\n",
              "    .colab-df-buttons div {\n",
              "      margin-bottom: 4px;\n",
              "    }\n",
              "\n",
              "    [theme=dark] .colab-df-convert {\n",
              "      background-color: #3B4455;\n",
              "      fill: #D2E3FC;\n",
              "    }\n",
              "\n",
              "    [theme=dark] .colab-df-convert:hover {\n",
              "      background-color: #434B5C;\n",
              "      box-shadow: 0px 1px 3px 1px rgba(0, 0, 0, 0.15);\n",
              "      filter: drop-shadow(0px 1px 2px rgba(0, 0, 0, 0.3));\n",
              "      fill: #FFFFFF;\n",
              "    }\n",
              "  </style>\n",
              "\n",
              "    <script>\n",
              "      const buttonEl =\n",
              "        document.querySelector('#df-60fef645-55dd-4374-a08e-f40410a8a96b button.colab-df-convert');\n",
              "      buttonEl.style.display =\n",
              "        google.colab.kernel.accessAllowed ? 'block' : 'none';\n",
              "\n",
              "      async function convertToInteractive(key) {\n",
              "        const element = document.querySelector('#df-60fef645-55dd-4374-a08e-f40410a8a96b');\n",
              "        const dataTable =\n",
              "          await google.colab.kernel.invokeFunction('convertToInteractive',\n",
              "                                                    [key], {});\n",
              "        if (!dataTable) return;\n",
              "\n",
              "        const docLinkHtml = 'Like what you see? Visit the ' +\n",
              "          '<a target=\"_blank\" href=https://colab.research.google.com/notebooks/data_table.ipynb>data table notebook</a>'\n",
              "          + ' to learn more about interactive tables.';\n",
              "        element.innerHTML = '';\n",
              "        dataTable['output_type'] = 'display_data';\n",
              "        await google.colab.output.renderOutput(dataTable, element);\n",
              "        const docLink = document.createElement('div');\n",
              "        docLink.innerHTML = docLinkHtml;\n",
              "        element.appendChild(docLink);\n",
              "      }\n",
              "    </script>\n",
              "  </div>\n",
              "\n",
              "\n",
              "<div id=\"df-ee443e25-a0b4-49c9-9a41-a426e2ccd0a5\">\n",
              "  <button class=\"colab-df-quickchart\" onclick=\"quickchart('df-ee443e25-a0b4-49c9-9a41-a426e2ccd0a5')\"\n",
              "            title=\"Suggest charts\"\n",
              "            style=\"display:none;\">\n",
              "\n",
              "<svg xmlns=\"http://www.w3.org/2000/svg\" height=\"24px\"viewBox=\"0 0 24 24\"\n",
              "     width=\"24px\">\n",
              "    <g>\n",
              "        <path d=\"M19 3H5c-1.1 0-2 .9-2 2v14c0 1.1.9 2 2 2h14c1.1 0 2-.9 2-2V5c0-1.1-.9-2-2-2zM9 17H7v-7h2v7zm4 0h-2V7h2v10zm4 0h-2v-4h2v4z\"/>\n",
              "    </g>\n",
              "</svg>\n",
              "  </button>\n",
              "\n",
              "<style>\n",
              "  .colab-df-quickchart {\n",
              "      --bg-color: #E8F0FE;\n",
              "      --fill-color: #1967D2;\n",
              "      --hover-bg-color: #E2EBFA;\n",
              "      --hover-fill-color: #174EA6;\n",
              "      --disabled-fill-color: #AAA;\n",
              "      --disabled-bg-color: #DDD;\n",
              "  }\n",
              "\n",
              "  [theme=dark] .colab-df-quickchart {\n",
              "      --bg-color: #3B4455;\n",
              "      --fill-color: #D2E3FC;\n",
              "      --hover-bg-color: #434B5C;\n",
              "      --hover-fill-color: #FFFFFF;\n",
              "      --disabled-bg-color: #3B4455;\n",
              "      --disabled-fill-color: #666;\n",
              "  }\n",
              "\n",
              "  .colab-df-quickchart {\n",
              "    background-color: var(--bg-color);\n",
              "    border: none;\n",
              "    border-radius: 50%;\n",
              "    cursor: pointer;\n",
              "    display: none;\n",
              "    fill: var(--fill-color);\n",
              "    height: 32px;\n",
              "    padding: 0;\n",
              "    width: 32px;\n",
              "  }\n",
              "\n",
              "  .colab-df-quickchart:hover {\n",
              "    background-color: var(--hover-bg-color);\n",
              "    box-shadow: 0 1px 2px rgba(60, 64, 67, 0.3), 0 1px 3px 1px rgba(60, 64, 67, 0.15);\n",
              "    fill: var(--button-hover-fill-color);\n",
              "  }\n",
              "\n",
              "  .colab-df-quickchart-complete:disabled,\n",
              "  .colab-df-quickchart-complete:disabled:hover {\n",
              "    background-color: var(--disabled-bg-color);\n",
              "    fill: var(--disabled-fill-color);\n",
              "    box-shadow: none;\n",
              "  }\n",
              "\n",
              "  .colab-df-spinner {\n",
              "    border: 2px solid var(--fill-color);\n",
              "    border-color: transparent;\n",
              "    border-bottom-color: var(--fill-color);\n",
              "    animation:\n",
              "      spin 1s steps(1) infinite;\n",
              "  }\n",
              "\n",
              "  @keyframes spin {\n",
              "    0% {\n",
              "      border-color: transparent;\n",
              "      border-bottom-color: var(--fill-color);\n",
              "      border-left-color: var(--fill-color);\n",
              "    }\n",
              "    20% {\n",
              "      border-color: transparent;\n",
              "      border-left-color: var(--fill-color);\n",
              "      border-top-color: var(--fill-color);\n",
              "    }\n",
              "    30% {\n",
              "      border-color: transparent;\n",
              "      border-left-color: var(--fill-color);\n",
              "      border-top-color: var(--fill-color);\n",
              "      border-right-color: var(--fill-color);\n",
              "    }\n",
              "    40% {\n",
              "      border-color: transparent;\n",
              "      border-right-color: var(--fill-color);\n",
              "      border-top-color: var(--fill-color);\n",
              "    }\n",
              "    60% {\n",
              "      border-color: transparent;\n",
              "      border-right-color: var(--fill-color);\n",
              "    }\n",
              "    80% {\n",
              "      border-color: transparent;\n",
              "      border-right-color: var(--fill-color);\n",
              "      border-bottom-color: var(--fill-color);\n",
              "    }\n",
              "    90% {\n",
              "      border-color: transparent;\n",
              "      border-bottom-color: var(--fill-color);\n",
              "    }\n",
              "  }\n",
              "</style>\n",
              "\n",
              "  <script>\n",
              "    async function quickchart(key) {\n",
              "      const quickchartButtonEl =\n",
              "        document.querySelector('#' + key + ' button');\n",
              "      quickchartButtonEl.disabled = true;  // To prevent multiple clicks.\n",
              "      quickchartButtonEl.classList.add('colab-df-spinner');\n",
              "      try {\n",
              "        const charts = await google.colab.kernel.invokeFunction(\n",
              "            'suggestCharts', [key], {});\n",
              "      } catch (error) {\n",
              "        console.error('Error during call to suggestCharts:', error);\n",
              "      }\n",
              "      quickchartButtonEl.classList.remove('colab-df-spinner');\n",
              "      quickchartButtonEl.classList.add('colab-df-quickchart-complete');\n",
              "    }\n",
              "    (() => {\n",
              "      let quickchartButtonEl =\n",
              "        document.querySelector('#df-ee443e25-a0b4-49c9-9a41-a426e2ccd0a5 button');\n",
              "      quickchartButtonEl.style.display =\n",
              "        google.colab.kernel.accessAllowed ? 'block' : 'none';\n",
              "    })();\n",
              "  </script>\n",
              "</div>\n",
              "\n",
              "    </div>\n",
              "  </div>\n"
            ],
            "application/vnd.google.colaboratory.intrinsic+json": {
              "type": "dataframe",
              "variable_name": "df",
              "summary": "{\n  \"name\": \"df\",\n  \"rows\": 10685,\n  \"fields\": [\n    {\n      \"column\": \"cidade\",\n      \"properties\": {\n        \"dtype\": \"category\",\n        \"num_unique_values\": 5,\n        \"samples\": [\n          \"Porto Alegre\",\n          \"Belo Horizonte\",\n          \"Rio de Janeiro\"\n        ],\n        \"semantic_type\": \"\",\n        \"description\": \"\"\n      }\n    },\n    {\n      \"column\": \"area\",\n      \"properties\": {\n        \"dtype\": \"number\",\n        \"std\": 537,\n        \"min\": 11,\n        \"max\": 46335,\n        \"num_unique_values\": 517,\n        \"samples\": [\n          255,\n          503,\n          343\n        ],\n        \"semantic_type\": \"\",\n        \"description\": \"\"\n      }\n    },\n    {\n      \"column\": \"quartos\",\n      \"properties\": {\n        \"dtype\": \"number\",\n        \"std\": 1,\n        \"min\": 1,\n        \"max\": 13,\n        \"num_unique_values\": 11,\n        \"samples\": [\n          5,\n          2,\n          13\n        ],\n        \"semantic_type\": \"\",\n        \"description\": \"\"\n      }\n    },\n    {\n      \"column\": \"banheiros\",\n      \"properties\": {\n        \"dtype\": \"number\",\n        \"std\": 1,\n        \"min\": 1,\n        \"max\": 10,\n        \"num_unique_values\": 10,\n        \"samples\": [\n          8,\n          4,\n          5\n        ],\n        \"semantic_type\": \"\",\n        \"description\": \"\"\n      }\n    },\n    {\n      \"column\": \"vagas_garagem\",\n      \"properties\": {\n        \"dtype\": \"number\",\n        \"std\": 1,\n        \"min\": 0,\n        \"max\": 12,\n        \"num_unique_values\": 11,\n        \"samples\": [\n          6,\n          1,\n          10\n        ],\n        \"semantic_type\": \"\",\n        \"description\": \"\"\n      }\n    },\n    {\n      \"column\": \"andar\",\n      \"properties\": {\n        \"dtype\": \"number\",\n        \"std\": 5,\n        \"min\": 0,\n        \"max\": 51,\n        \"num_unique_values\": 35,\n        \"samples\": [\n          23,\n          17,\n          22\n        ],\n        \"semantic_type\": \"\",\n        \"description\": \"\"\n      }\n    },\n    {\n      \"column\": \"aceita_animal\",\n      \"properties\": {\n        \"dtype\": \"number\",\n        \"std\": 0,\n        \"min\": 0,\n        \"max\": 1,\n        \"num_unique_values\": 2,\n        \"samples\": [\n          0,\n          1\n        ],\n        \"semantic_type\": \"\",\n        \"description\": \"\"\n      }\n    },\n    {\n      \"column\": \"mobiliaria\",\n      \"properties\": {\n        \"dtype\": \"number\",\n        \"std\": 0,\n        \"min\": 0,\n        \"max\": 1,\n        \"num_unique_values\": 2,\n        \"samples\": [\n          0,\n          1\n        ],\n        \"semantic_type\": \"\",\n        \"description\": \"\"\n      }\n    },\n    {\n      \"column\": \"valor_condominio\",\n      \"properties\": {\n        \"dtype\": \"number\",\n        \"std\": 1166,\n        \"min\": 0,\n        \"max\": 32000,\n        \"num_unique_values\": 1675,\n        \"samples\": [\n          2128,\n          8362\n        ],\n        \"semantic_type\": \"\",\n        \"description\": \"\"\n      }\n    },\n    {\n      \"column\": \"valor_aluguel\",\n      \"properties\": {\n        \"dtype\": \"number\",\n        \"std\": 3381,\n        \"min\": 450,\n        \"max\": 30000,\n        \"num_unique_values\": 1194,\n        \"samples\": [\n          19000,\n          9180\n        ],\n        \"semantic_type\": \"\",\n        \"description\": \"\"\n      }\n    },\n    {\n      \"column\": \"valor_iptu\",\n      \"properties\": {\n        \"dtype\": \"number\",\n        \"std\": 677,\n        \"min\": 0,\n        \"max\": 28120,\n        \"num_unique_values\": 1241,\n        \"samples\": [\n          1006,\n          1167\n        ],\n        \"semantic_type\": \"\",\n        \"description\": \"\"\n      }\n    },\n    {\n      \"column\": \"valor_seguro\",\n      \"properties\": {\n        \"dtype\": \"number\",\n        \"std\": 47,\n        \"min\": 3,\n        \"max\": 451,\n        \"num_unique_values\": 215,\n        \"samples\": [\n          184,\n          3\n        ],\n        \"semantic_type\": \"\",\n        \"description\": \"\"\n      }\n    },\n    {\n      \"column\": \"valor_total\",\n      \"properties\": {\n        \"dtype\": \"number\",\n        \"std\": 4473,\n        \"min\": 499,\n        \"max\": 32750,\n        \"num_unique_values\": 5745,\n        \"samples\": [\n          1049,\n          4297\n        ],\n        \"semantic_type\": \"\",\n        \"description\": \"\"\n      }\n    }\n  ]\n}"
            }
          },
          "metadata": {},
          "execution_count": 62
        }
      ]
    },
    {
      "cell_type": "markdown",
      "source": [
        "# Analyzing the target (Rent)\n"
      ],
      "metadata": {
        "id": "JVxND_W50Qvk"
      }
    },
    {
      "cell_type": "code",
      "source": [
        "print(f\"Rent Mean    : {round(df['valor_aluguel'].mean(), 2)}\")\n",
        "print(f\"Rent Median  : {round(df['valor_aluguel'].median(), 2)}\")\n",
        "print(f\"Highest Rent : {df['valor_aluguel'].max()}\")\n",
        "print(f\"Lowest Rent  : {df['valor_aluguel'].min()}\")"
      ],
      "metadata": {
        "colab": {
          "base_uri": "https://localhost:8080/"
        },
        "id": "vXMM1YnczcRV",
        "outputId": "7fa0a18c-c2b9-4f83-b125-963d3f611a28"
      },
      "execution_count": 70,
      "outputs": [
        {
          "output_type": "stream",
          "name": "stdout",
          "text": [
            "Rent Mean    : 3890.42\n",
            "Rent Median  : 2650.0\n",
            "Highest Rent : 30000\n",
            "Lowest Rent  : 450\n"
          ]
        }
      ]
    },
    {
      "cell_type": "code",
      "source": [
        "fig, ax = plt.subplots(2, 2, figsize=(20, 12))\n",
        "ax1 = sns.histplot(x = df['valor_aluguel'], color='teal', ax= ax[0, 0])\n",
        "ax2 = sns.boxplot(x = df['valor_aluguel'], ax= ax[0, 1], color= 'teal')\n",
        "ax3 = sns.violinplot(x = df['valor_aluguel'], ax= ax[1, 0], color= 'teal')\n",
        "ax4 = probplot(df['valor_aluguel'], plot=pylab)\n",
        "pylab.show()"
      ],
      "metadata": {
        "id": "iV0jvsftNiVr",
        "outputId": "4395a7ff-dd52-4d52-f581-83704180877c",
        "colab": {
          "base_uri": "https://localhost:8080/",
          "height": 535
        }
      },
      "execution_count": 68,
      "outputs": [
        {
          "output_type": "display_data",
          "data": {
            "text/plain": [
              "<Figure size 2000x1200 with 4 Axes>"
            ],
            "image/png": "[encoded data removed]"
          },
          "metadata": {}
        }
      ]
    },
    {
      "cell_type": "markdown",
      "source": [
        "# Analysis\n",
        "No primeiro plot podemos obersar que a variável a ser prevista apresenta assimetria positiva acentuada o que indica que modelos lineares não poderáo prevê-la com eficiência.\n",
        "\n",
        "No segundo plot, o box-plot deixa evidente que existem outliers.\n",
        "\n",
        "No quarto plot (QQ plot) é possível identificar como a variável se comparada à uma distribuição normal.\n",
        "\n",
        "Como ponto de partida, utiliaremos a Regressão Linear como ponto de partida para entender como os dados se comportam em um modelo linear."
      ],
      "metadata": {
        "id": "XRIn4kjZO5ZS"
      }
    },
    {
      "cell_type": "markdown",
      "source": [
        "# Linear Regression Model A\n",
        "With only one feature (area)"
      ],
      "metadata": {
        "id": "MtKoiu0G0dv7"
      }
    },
    {
      "cell_type": "code",
      "source": [
        "# Split the dataframe\n",
        "x = df[[\"area\"]]\n",
        "y = df[\"valor_aluguel\"]\n",
        "\n",
        "# Split data for training and testing\n",
        "x_train, x_test, y_train, y_test = train_test_split(x, y, test_size=0.15, random_state=42)\n",
        "\n",
        "# Run the model\n",
        "modelA = LinearRegression()\n",
        "modelA.fit(x_train, y_train)\n",
        "y_hat = modelA.predict(x_test)\n",
        "\n",
        "# Find MSE\n",
        "modelA_mse = mean_squared_error(y_test, y_hat)\n",
        "print(modelA_mse)"
      ],
      "metadata": {
        "colab": {
          "base_uri": "https://localhost:8080/"
        },
        "id": "vP5rbLwY0iI6",
        "outputId": "75ac9dae-1725-4954-e4ae-3a3e53f3f788"
      },
      "execution_count": 64,
      "outputs": [
        {
          "output_type": "stream",
          "name": "stdout",
          "text": [
            "10352386.691932349\n"
          ]
        }
      ]
    },
    {
      "cell_type": "markdown",
      "source": [
        "## Analysis\n",
        "Sendo o maior aluguel `R$30.000` e o menor `R$450`, o Mean Squared Error (MSE) de 10.352.386 pode ser avaliado como alto e não está bom o suficiente para ser utilizado. Uma alternativa para melhorar a interpretação pode ser calcular o RMSE para trazer o erro para a mesma ordem de grandeza que a variável alvo."
      ],
      "metadata": {
        "id": "724nluAMIUgc"
      }
    },
    {
      "cell_type": "markdown",
      "source": [
        "# Linear Regression Model B\n",
        "Added one more feature to the regression (furnished)"
      ],
      "metadata": {
        "id": "qhuCMEWr_aut"
      }
    },
    {
      "cell_type": "code",
      "source": [
        "# Split the dataframe\n",
        "x = df[[\"area\", \"mobiliaria\"]]\n",
        "y = df[\"valor_aluguel\"]\n",
        "\n",
        "# Split data for training and testing\n",
        "x_train, x_test, y_train, y_test = train_test_split(x, y, test_size=0.15, random_state=42)\n",
        "\n",
        "# Run the model\n",
        "modelB = LinearRegression()\n",
        "modelB.fit(x_train, y_train)\n",
        "y_hat = modelB.predict(x_test)\n",
        "\n",
        "# Find MSE\n",
        "modelB_mse = mean_squared_error(y_test, y_hat)\n",
        "print(f'Model B MSE : {modelB_mse}' )\n",
        "print(f'Model B ▲ A : {round((modelB_mse / modelA_mse), 2)}')"
      ],
      "metadata": {
        "colab": {
          "base_uri": "https://localhost:8080/"
        },
        "id": "H92Rq6a03gCy",
        "outputId": "1edf5760-3b96-41d1-8b8b-93db1e880e3e"
      },
      "execution_count": 66,
      "outputs": [
        {
          "output_type": "stream",
          "name": "stdout",
          "text": [
            "Model B MSE : 10073430.409762671\n",
            "Model B ▲ A : 0.97\n"
          ]
        }
      ]
    },
    {
      "cell_type": "markdown",
      "source": [
        "## Analysis\n",
        "Com uma nova feature indica que, com essa variável adicional, o modelo consegue prever os valores reais com um erro médio menor mas sem uma melhora significativa."
      ],
      "metadata": {
        "id": "NuQy0fKRCvAU"
      }
    },
    {
      "cell_type": "code",
      "source": [
        "# Split the dataframe\n",
        "x = df[[\"area\", \"mobiliaria\", \"quartos\"]]\n",
        "y = df[\"valor_aluguel\"]\n",
        "\n",
        "# Split data for training and testing\n",
        "x_train, x_test, y_train, y_test = train_test_split(x, y, test_size=0.15, random_state=42)\n",
        "\n",
        "# Run the model\n",
        "modelC = LinearRegression()\n",
        "modelC.fit(x_train, y_train)\n",
        "y_hat = modelC.predict(x_test)\n",
        "\n",
        "# Find MSE\n",
        "modelC_mse = mean_squared_error(y_test, y_hat)\n",
        "print(modelC_mse)"
      ],
      "metadata": {
        "colab": {
          "base_uri": "https://localhost:8080/"
        },
        "id": "cVEBB9_ODcWA",
        "outputId": "2eba9a07-3d0c-4620-9b94-ef3a1b73c2dc"
      },
      "execution_count": null,
      "outputs": [
        {
          "output_type": "stream",
          "name": "stdout",
          "text": [
            "6996422.925958624\n"
          ]
        }
      ]
    },
    {
      "cell_type": "markdown",
      "source": [
        "# Linear Regression Model C\n",
        "Added one more feature to the regression (# of bedrooms)"
      ],
      "metadata": {
        "id": "S7jaGV7zLm2O"
      }
    },
    {
      "cell_type": "code",
      "source": [
        "# Split the dataframe\n",
        "x = df[[\"area\", \"mobiliaria\", \"quartos\"]]\n",
        "y = df[\"valor_aluguel\"]\n",
        "\n",
        "# Split data for training and testing\n",
        "x_train, x_test, y_train, y_test = train_test_split(x, y, test_size=0.15, random_state=42)\n",
        "\n",
        "# Run the model\n",
        "modelC = LinearRegression()\n",
        "modelC.fit(x_train, y_train)\n",
        "y_hat = modelC.predict(x_test)\n",
        "\n",
        "# Find MSE\n",
        "modelC_mse = mean_squared_error(y_test, y_hat)\n",
        "print(modelC_mse)\n",
        "print(f'Model B ▲ A : {round((modelC_mse / modelA_mse), 2)}')"
      ],
      "metadata": {
        "colab": {
          "base_uri": "https://localhost:8080/"
        },
        "id": "83hKIb9NBxbP",
        "outputId": "513af468-1ecf-4c2d-ab71-488b43427130"
      },
      "execution_count": 65,
      "outputs": [
        {
          "output_type": "stream",
          "name": "stdout",
          "text": [
            "6996422.925958624\n",
            "Model B ▲ A : 0.68\n"
          ]
        }
      ]
    },
    {
      "cell_type": "markdown",
      "source": [
        "## Analysis\n",
        "Com a adição de uma variável extra, o MSE do modelo diminuiu significativamente. Isso indica uma melhoria substancial na capacidade do modelo de fazer previsões mais precisas em comparação com os modelos anteriores mas ainda não adequado para utilização."
      ],
      "metadata": {
        "id": "bsDtw1DNHTY0"
      }
    },
    {
      "cell_type": "markdown",
      "source": [
        "# Próximos passos\n",
        "Dado que a adição de mais features melhorou consideravelmente o modelo, podemos incluir mais variáveis para verificar o quanto o modelo melhora.\n",
        "\n",
        "Usar uma técnica de normalização do dados a serem previsto e remover os outliers também podem melhorar significamente o modelo."
      ],
      "metadata": {
        "id": "Vl0MbQrqM8iV"
      }
    }
  ]
}